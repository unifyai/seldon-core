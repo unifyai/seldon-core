{
 "cells": [
  {
   "attachments": {},
   "cell_type": "markdown",
   "id": "9893b7fc",
   "metadata": {},
   "source": [
    "# Custom Ivy Prepackaged Model Server\n",
    "\n",
    "In this notebook we create a new custom Ivy_Server prepackaged server with two versions:\n",
    "   * A Seldon protocol Ivy model server\n",
    "   * A KfServing V2 protocol version using MLServer for running ivy models\n",
    "\n",
    "The Seldon model server is in defined in `ivyserver` folder.\n",
    "\n",
    "## Prerequisites\n",
    "\n",
    " * A kubernetes cluster with kubectl configured\n",
    " * curl\n",
    "\n",
    "## Setup Seldon Core\n",
    "\n",
    "Use the setup notebook to [Setup Cluster](https://docs.seldon.io/projects/seldon-core/en/latest/examples/seldon_core_setup.html) to setup Seldon Core with an ingress - either Ambassador or Istio.\n",
    "\n",
    "Then port-forward to that ingress on localhost:8003 in a separate terminal either with:\n",
    "\n",
    " * Ambassador: `kubectl port-forward $(kubectl get pods -n seldon -l app.kubernetes.io/name=ambassador -o jsonpath='{.items[0].metadata.name}') -n seldon 8003:8080`\n",
    " * Istio: `kubectl port-forward $(kubectl get pods -l istio=ingressgateway -n istio-system -o jsonpath='{.items[0].metadata.name}') -n istio-system 8003:8080`"
   ]
  },
  {
   "cell_type": "code",
   "execution_count": 1,
   "id": "a60a8353",
   "metadata": {},
   "outputs": [
    {
     "name": "stdout",
     "output_type": "stream",
     "text": [
      "Error from server (AlreadyExists): namespaces \"seldon\" already exists\n"
     ]
    }
   ],
   "source": [
    "!kubectl create namespace seldon"
   ]
  },
  {
   "cell_type": "code",
   "execution_count": 2,
   "id": "2e70d73e",
   "metadata": {},
   "outputs": [],
   "source": [
    "from IPython.core.magic import register_line_cell_magic\n",
    "\n",
    "\n",
    "@register_line_cell_magic\n",
    "def writetemplate(line, cell):\n",
    "    with open(line, \"w\") as f:\n",
    "        f.write(cell.format(**globals()))"
   ]
  },
  {
   "cell_type": "code",
   "execution_count": 3,
   "id": "d876e7c0",
   "metadata": {},
   "outputs": [
    {
     "data": {
      "text/plain": [
       "'1.17.0-dev'"
      ]
     },
     "execution_count": 3,
     "metadata": {},
     "output_type": "execute_result"
    }
   ],
   "source": [
    "VERSION = !cat ../../../version.txt\n",
    "VERSION = VERSION[0]\n",
    "VERSION"
   ]
  },
  {
   "attachments": {},
   "cell_type": "markdown",
   "id": "d564a1bb",
   "metadata": {},
   "source": [
    "## Training (can be skipped)"
   ]
  },
  {
   "cell_type": "code",
   "execution_count": 1,
   "id": "fa26c2a0",
   "metadata": {},
   "outputs": [
    {
     "name": "stdout",
     "output_type": "stream",
     "text": [
      "Epoch: 10 --- Loss: 1.35421\n",
      "Epoch: 20 --- Loss: 1.46206\n",
      "Epoch: 30 --- Loss: 1.57076\n",
      "Epoch: 40 --- Loss: 1.44568\n",
      "Epoch: 50 --- Loss: 1.62109\n",
      "Finished training!\n"
     ]
    }
   ],
   "source": [
    "TRAIN_MODEL = True\n",
    "if TRAIN_MODEL:\n",
    "    import ivy\n",
    "    import os\n",
    "\n",
    "    class Regressor(ivy.Module):\n",
    "        def __init__(self, input_dim, output_dim, is_training=True):\n",
    "            self.linear = ivy.Linear(input_dim, output_dim)\n",
    "            self.dropout = ivy.Dropout(0.5, training=is_training)\n",
    "            ivy.Module.__init__(self)\n",
    "\n",
    "        def _forward(self, x, ):\n",
    "            x = ivy.sigmoid(self.linear(x))\n",
    "            x = self.dropout(x)\n",
    "            return x\n",
    "\n",
    "    ivy.set_backend('torch')  # set backend to PyTorch\n",
    "\n",
    "    model = Regressor(input_dim=3, output_dim=1)\n",
    "    optimizer = ivy.Adam(1e-4)\n",
    "\n",
    "    # generate some random data\n",
    "    x = ivy.random.random_normal(shape=(100, 3))\n",
    "    y = ivy.random.random_normal(shape=(100, 1))\n",
    "\n",
    "    def loss_fn(pred, target):\n",
    "        return ivy.mean((pred - target)**2)\n",
    "\n",
    "    for epoch in range(50):\n",
    "        # forward pass\n",
    "        pred = model(x)\n",
    "\n",
    "        # compute loss and gradients\n",
    "        loss, grads = ivy.execute_with_gradients(lambda v: loss_fn(pred, y), model.v)\n",
    "\n",
    "        # update parameters\n",
    "        model.v = optimizer.step(model.v, grads)\n",
    "\n",
    "        # print current loss\n",
    "        if (epoch+1) % 10 == 0:\n",
    "            print(f'Epoch: {epoch + 1:2d} --- Loss: {ivy.to_numpy(loss).item():.5f}')\n",
    "            \n",
    "    print('Finished training!')\n",
    "    \n",
    "    model_dir = \"./artifacts\"\n",
    "    ivy_model = \"model.pkl\"\n",
    "    model_file = os.path.join(model_dir, ivy_model)\n",
    "    \n",
    "    if not os.path.exists(model_dir): os.makedirs(model_dir)\n",
    "    model.v.cont_to_disk_as_pickled(model_file)"
   ]
  },
  {
   "cell_type": "code",
   "execution_count": 18,
   "id": "8fb65095",
   "metadata": {},
   "outputs": [
    {
     "name": "stdout",
     "output_type": "stream",
     "text": [
      "Writing artifacts/models.py\n"
     ]
    }
   ],
   "source": [
    "%%writefile artifacts/models.py\n",
    "import ivy\n",
    "\n",
    "class Regressor(ivy.Module):\n",
    "    def __init__(self, input_dim, output_dim, is_training=True):\n",
    "        self.linear = ivy.Linear(input_dim, output_dim)\n",
    "        self.dropout = ivy.Dropout(0.5, training=is_training)\n",
    "        ivy.Module.__init__(self)\n",
    "\n",
    "    def _forward(self, x, ):\n",
    "        x = ivy.sigmoid(self.linear(x))\n",
    "        x = self.dropout(x)\n",
    "        return x\n",
    "    \n",
    "input_dim = 3\n",
    "output_dim = 1\n",
    "backend = 'torch'"
   ]
  },
  {
   "attachments": {},
   "cell_type": "markdown",
   "id": "e64cac3b",
   "metadata": {},
   "source": [
    "## Update Seldon Core with Custom Model"
   ]
  },
  {
   "cell_type": "code",
   "execution_count": 4,
   "id": "cb889019",
   "metadata": {},
   "outputs": [],
   "source": [
    "%%writetemplate values.yaml\n",
    "predictor_servers:\n",
    "  MLFLOW_SERVER:\n",
    "    protocols:\n",
    "      seldon:\n",
    "        defaultImageVersion: \"{VERSION}\"\n",
    "        image: seldonio/mlflowserver\n",
    "  SKLEARN_SERVER:\n",
    "    protocols:\n",
    "      seldon:\n",
    "        defaultImageVersion: \"{VERSION}\"\n",
    "        image: seldonio/sklearnserver\n",
    "      kfserving:\n",
    "        defaultImageVersion: \"0.3.2\"\n",
    "        image: seldonio/mlserver\n",
    "  TENSORFLOW_SERVER:\n",
    "    protocols:\n",
    "      seldon:\n",
    "        defaultImageVersion: \"{VERSION}\"\n",
    "        image: seldonio/tfserving-proxy\n",
    "      tensorflow: \n",
    "        defaultImageVersion: 2.1.0\n",
    "        image:  tensorflow/serving\n",
    "  XGBOOST_SERVER:\n",
    "    protocols:\n",
    "      seldon:\n",
    "        defaultImageVersion: \"{VERSION}\"\n",
    "        image: seldonio/xgboostserver\n",
    "      kfserving:\n",
    "        defaultImageVersion: \"0.3.2\"\n",
    "        image: seldonio/mlserver\n",
    "  IVY_SERVER:\n",
    "    protocols:\n",
    "      seldon:\n",
    "        defaultImageVersion: \"{VERSION}\"\n",
    "        image: seldonio/ivyserver\n",
    "      kfserving:\n",
    "        defaultImageVersion: \"0.3.2\"\n",
    "        image: seldonio/mlserver\n",
    "  TRITON_SERVER:\n",
    "    protocols:\n",
    "      kfserving:\n",
    "        defaultImageVersion: \"21.08-py3\"\n",
    "        image: nvcr.io/nvidia/tritonserver\n",
    "  TEMPO_SERVER:\n",
    "    protocols:\n",
    "      kfserving:\n",
    "        defaultImageVersion: \"0.3.2\"\n",
    "        image: seldonio/mlserver\n"
   ]
  },
  {
   "cell_type": "code",
   "execution_count": 5,
   "id": "af9695e7",
   "metadata": {},
   "outputs": [
    {
     "name": "stdout",
     "output_type": "stream",
     "text": [
      "Release \"seldon-core\" has been upgraded. Happy Helming!\n",
      "NAME: seldon-core\n",
      "LAST DEPLOYED: Tue Jun 20 22:45:58 2023\n",
      "NAMESPACE: seldon-system\n",
      "STATUS: deployed\n",
      "REVISION: 2\n",
      "TEST SUITE: None\n"
     ]
    }
   ],
   "source": [
    "!helm upgrade seldon-core  \\\n",
    "    ../../../helm-charts/seldon-core-operator \\\n",
    "    --namespace seldon-system \\\n",
    "    --values values.yaml \\\n",
    "    --set istio.enabled=true"
   ]
  },
  {
   "attachments": {},
   "cell_type": "markdown",
   "id": "cd4fc5b7",
   "metadata": {},
   "source": [
    "## DeployLightGBM Model with Seldon Protocol"
   ]
  },
  {
   "cell_type": "code",
   "execution_count": 1,
   "id": "1d4050e1",
   "metadata": {},
   "outputs": [
    {
     "name": "stdout",
     "output_type": "stream",
     "text": [
      "apiVersion: machinelearning.seldon.io/v1alpha2\n",
      "kind: SeldonDeployment\n",
      "metadata:\n",
      "  name: regressor\n",
      "spec:\n",
      "  predictors:\n",
      "  - graph:\n",
      "      implementation: IVY_SERVER\n",
      "      modelUri: gs://ivy-models/regressor\n",
      "      name: regressorivy\n",
      "    name: default\n",
      "    replicas: 1\n"
     ]
    }
   ],
   "source": [
    "!cat model_seldon_v1.yaml"
   ]
  },
  {
   "attachments": {},
   "cell_type": "markdown",
   "id": "925ac571",
   "metadata": {},
   "source": [
    "Wait for new webhook certificates to be loaded"
   ]
  },
  {
   "cell_type": "code",
   "execution_count": 2,
   "id": "f30e84d0",
   "metadata": {},
   "outputs": [],
   "source": [
    "import time\n",
    "\n",
    "time.sleep(60)"
   ]
  },
  {
   "cell_type": "code",
   "execution_count": 3,
   "id": "eb61cba5",
   "metadata": {
    "scrolled": true
   },
   "outputs": [
    {
     "name": "stdout",
     "output_type": "stream",
     "text": [
      "seldondeployment.machinelearning.seldon.io/regressor created\n"
     ]
    }
   ],
   "source": [
    "!kubectl create -f model_seldon_v1.yaml -n seldon"
   ]
  },
  {
   "cell_type": "code",
   "execution_count": 4,
   "id": "80629999",
   "metadata": {},
   "outputs": [
    {
     "name": "stdout",
     "output_type": "stream",
     "text": [
      "Waiting for deployment \"regressor-default-0-regressorivy\" rollout to finish: 0 of 1 updated replicas are available...\n",
      "^C\n"
     ]
    }
   ],
   "source": [
    "!kubectl rollout status deploy/$(kubectl get deploy -l seldon-deployment-id=regressor -o jsonpath='{.items[0].metadata.name}' -n seldon) -n seldon"
   ]
  },
  {
   "cell_type": "code",
   "execution_count": null,
   "id": "f97f28a2",
   "metadata": {},
   "outputs": [],
   "source": [
    "# Extra commands to diagnose above code\n",
    "# Get status to make sure it's not in a restarting loop\n",
    "!kubectl get pods -n seldon\n",
    "# Get logs\n",
    "!kubectl logs -n seldon <pod-name>\n",
    "# Get events\n",
    "!kubectl describe pod -n seldon <pod-name>\n",
    "# Review Initialization Process if container was successfully pulled, created, and started\n",
    "# But there might be an issue during the initialization process itself\n",
    "!kubectl logs -n seldon <pod-name> -c regressorivy-model-initializer\n",
    "# Shows in detail\n",
    "!kubectl describe deployment regressor-default-0-regressorivy -n seldon\n",
    "# Deleting and recreating the pod to start the initialization process fresh\n",
    "!kubectl delete pod -n seldon <pod-name>\n",
    "# Completely remove the existing Seldon deployment named \"regressor\" in the \"seldon\" namespace\n",
    "!kubectl delete seldondeployments regressor -n seldon"
   ]
  },
  {
   "cell_type": "code",
   "execution_count": null,
   "id": "7238d33c",
   "metadata": {},
   "outputs": [],
   "source": [
    "for i in range(60):\n",
    "    state = !kubectl get sdep regressor -n seldon -o jsonpath='{.status.state}'\n",
    "    state = state[0]\n",
    "    print(state)\n",
    "    if state == \"Available\":\n",
    "        break\n",
    "    time.sleep(1)\n",
    "assert state == \"Available\""
   ]
  },
  {
   "cell_type": "code",
   "execution_count": null,
   "id": "fcc52ab9",
   "metadata": {},
   "outputs": [],
   "source": [
    "import json\n",
    "X=!curl -s -d '{\"data\": {\"ndarray\":[[1.0, 2.0, 3.0, 4.0]]}}' \\\n",
    "   -X POST http://localhost:8003/seldon/seldon/regressor/api/v1.0/predictions \\\n",
    "   -H \"Content-Type: application/json\"\n",
    "d=json.loads(X[0])\n",
    "print(d)"
   ]
  },
  {
   "cell_type": "code",
   "execution_count": null,
   "id": "1c2d80b0",
   "metadata": {},
   "outputs": [],
   "source": [
    "!kubectl delete -f model_seldon_v1.yaml"
   ]
  },
  {
   "attachments": {},
   "cell_type": "markdown",
   "id": "31e25811",
   "metadata": {},
   "source": [
    "## Deploy Model with KFserving Protocol"
   ]
  },
  {
   "cell_type": "code",
   "execution_count": null,
   "id": "2d713176",
   "metadata": {},
   "outputs": [],
   "source": [
    "!cat model_seldon_v2.yaml"
   ]
  },
  {
   "cell_type": "code",
   "execution_count": null,
   "id": "f6121be8",
   "metadata": {
    "scrolled": true
   },
   "outputs": [],
   "source": [
    "!kubectl create -f model_seldon_v2.yaml -n seldon"
   ]
  },
  {
   "cell_type": "code",
   "execution_count": null,
   "id": "0dc67de0",
   "metadata": {},
   "outputs": [],
   "source": [
    "!kubectl rollout status deploy/$(kubectl get deploy -l seldon-deployment-id=regressor -o jsonpath='{.items[0].metadata.name}' -n seldon) -n seldon"
   ]
  },
  {
   "cell_type": "code",
   "execution_count": null,
   "id": "96b19e64",
   "metadata": {},
   "outputs": [],
   "source": [
    "for i in range(60):\n",
    "    state = !kubectl get sdep regressor -n seldon -o jsonpath='{.status.state}'\n",
    "    state = state[0]\n",
    "    print(state)\n",
    "    if state == \"Available\":\n",
    "        break\n",
    "    time.sleep(1)\n",
    "assert state == \"Available\""
   ]
  },
  {
   "cell_type": "code",
   "execution_count": null,
   "id": "ba2da33c",
   "metadata": {},
   "outputs": [],
   "source": [
    "import json\n",
    "X=!curl -s -d '{\"inputs\": [{\"name\": \"predict\", \"shape\": [1, 4], \"datatype\": \"FP32\", \"data\": [[1, 2, 3, 4]]}]}'\\\n",
    "   -X POST http://localhost:8003/seldon/seldon/regressor/v2/models/infer \\\n",
    "   -H \"Content-Type: application/json\"\n",
    "d=json.loads(X[0])\n",
    "print(d)"
   ]
  },
  {
   "cell_type": "code",
   "execution_count": null,
   "id": "da968df4",
   "metadata": {},
   "outputs": [],
   "source": [
    "!kubectl delete -f model_seldon_v2.yaml"
   ]
  },
  {
   "cell_type": "code",
   "execution_count": null,
   "id": "469bbfd8",
   "metadata": {},
   "outputs": [],
   "source": []
  }
 ],
 "metadata": {
  "kernelspec": {
   "display_name": "Python 3 (ipykernel)",
   "language": "python",
   "name": "python3"
  },
  "language_info": {
   "codemirror_mode": {
    "name": "ipython",
    "version": 3
   },
   "file_extension": ".py",
   "mimetype": "text/x-python",
   "name": "python",
   "nbconvert_exporter": "python",
   "pygments_lexer": "ipython3",
   "version": "3.10.11"
  }
 },
 "nbformat": 4,
 "nbformat_minor": 5
}
